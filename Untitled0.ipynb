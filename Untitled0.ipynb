{
  "nbformat": 4,
  "nbformat_minor": 0,
  "metadata": {
    "colab": {
      "provenance": []
    },
    "kernelspec": {
      "name": "python3",
      "display_name": "Python 3"
    },
    "language_info": {
      "name": "python"
    }
  },
  "cells": [
    {
      "cell_type": "code",
      "execution_count": 3,
      "metadata": {
        "id": "wo2eaz6I3nkW"
      },
      "outputs": [],
      "source": []
    },
    {
      "cell_type": "markdown",
      "source": [
        "#functions"
      ],
      "metadata": {
        "id": "UWwaeyU23_Uj"
      }
    },
    {
      "cell_type": "markdown",
      "source": [
        "1. what is the google collab\n",
        "  - its a analytical tool\n",
        "\n",
        "2. what is the jupyter notebook\n",
        " - it is another analytical tool that use for run the data"
      ],
      "metadata": {
        "id": "1NVGd2ex4Y8W"
      }
    },
    {
      "cell_type": "markdown",
      "source": [],
      "metadata": {
        "id": "XnyAG6T-4hX1"
      }
    }
  ]
}